{
  "nbformat": 4,
  "nbformat_minor": 0,
  "metadata": {
    "kernelspec": {
      "display_name": "Python 3",
      "language": "python",
      "name": "python3"
    },
    "language_info": {
      "codemirror_mode": {
        "name": "ipython",
        "version": 3
      },
      "file_extension": ".py",
      "mimetype": "text/x-python",
      "name": "python",
      "nbconvert_exporter": "python",
      "pygments_lexer": "ipython3",
      "version": "3.7.4"
    },
    "colab": {
      "name": "transformer.ipynb",
      "provenance": [],
      "collapsed_sections": []
    },
    "accelerator": "GPU"
  },
  "cells": [
    {
      "cell_type": "code",
      "metadata": {
        "id": "q2qYBIGBTPLc",
        "colab_type": "code",
        "colab": {}
      },
      "source": [
        "import tensorflow_datasets as tfds\n",
        "tfds.disable_progress_bar()\n",
        "import urllib3\n",
        "urllib3.disable_warnings(urllib3.exceptions.InsecureRequestWarning)\n",
        "import pandas as pd\n",
        "from tqdm import tqdm\n",
        "import numpy as np"
      ],
      "execution_count": null,
      "outputs": []
    },
    {
      "cell_type": "code",
      "metadata": {
        "id": "HW_JyHYuViE-",
        "colab_type": "code",
        "colab": {
          "base_uri": "https://localhost:8080/",
          "height": 122
        },
        "outputId": "529dcc0f-1104-45e9-d4ac-a09797e2922a"
      },
      "source": [
        "# Import tensorflow dataset\n",
        "ds = tfds.load(name='gigaword')"
      ],
      "execution_count": null,
      "outputs": [
        {
          "output_type": "stream",
          "text": [
            "\u001b[1mDownloading and preparing dataset gigaword/1.2.0 (download: 551.61 MiB, generated: Unknown size, total: 551.61 MiB) to /root/tensorflow_datasets/gigaword/1.2.0...\u001b[0m\n",
            "Shuffling and writing examples to /root/tensorflow_datasets/gigaword/1.2.0.incomplete1UXPV6/gigaword-train.tfrecord\n",
            "Shuffling and writing examples to /root/tensorflow_datasets/gigaword/1.2.0.incomplete1UXPV6/gigaword-validation.tfrecord\n",
            "Shuffling and writing examples to /root/tensorflow_datasets/gigaword/1.2.0.incomplete1UXPV6/gigaword-test.tfrecord\n",
            "\u001b[1mDataset gigaword downloaded and prepared to /root/tensorflow_datasets/gigaword/1.2.0. Subsequent calls will reuse this data.\u001b[0m\n"
          ],
          "name": "stdout"
        }
      ]
    },
    {
      "cell_type": "code",
      "metadata": {
        "id": "QziQMd4ATDjN",
        "colab_type": "code",
        "colab": {
          "base_uri": "https://localhost:8080/",
          "height": 119
        },
        "outputId": "0035c235-64fb-4457-915c-0d1a2866f10a"
      },
      "source": [
        "# Convert tensorflow dataset to pairs\n",
        "\n",
        "train_size = 300000\n",
        "valid_size = 10000\n",
        "test_size = -1\n",
        "\n",
        "def example_pair(example):\n",
        "    src = example['document'].decode('utf-8')\n",
        "    trg = example['summary'].decode('utf-8')\n",
        "    return [src, trg]\n",
        "\n",
        "def tfds_pairs(ds, size):\n",
        "    pairs = []\n",
        "    ds = tfds.as_numpy(ds)\n",
        "    tbar = tqdm(ds)\n",
        "    for example in tbar:\n",
        "        pairs.append(example_pair(example))\n",
        "        if len(pairs) == size: \n",
        "            tbar.close()\n",
        "            break\n",
        "    return pairs\n",
        "\n",
        "train_pairs = tfds_pairs(ds['train'], train_size)\n",
        "valid_pairs = tfds_pairs(ds['validation'], valid_size)\n",
        "test_pairs = tfds_pairs(ds['test'], test_size)\n",
        "\n",
        "print('Number of train examples: {}'.format(len(train_pairs)))\n",
        "print('Number of valid examples: {}'.format(len(valid_pairs)))\n",
        "print('Number of test examples: {}'.format(len(test_pairs)))"
      ],
      "execution_count": null,
      "outputs": [
        {
          "output_type": "stream",
          "text": [
            "299876it [01:17, 3889.18it/s]\n",
            "9686it [00:02, 3727.97it/s]\n",
            "1951it [00:00, 3785.02it/s]"
          ],
          "name": "stderr"
        },
        {
          "output_type": "stream",
          "text": [
            "Number of train examples: 300000\n",
            "Number of valid examples: 10000\n",
            "Number of test examples: 1951\n"
          ],
          "name": "stdout"
        },
        {
          "output_type": "stream",
          "text": [
            "\n"
          ],
          "name": "stderr"
        }
      ]
    },
    {
      "cell_type": "code",
      "metadata": {
        "id": "XJOk07XE4OGF",
        "colab_type": "code",
        "colab": {
          "base_uri": "https://localhost:8080/",
          "height": 445
        },
        "outputId": "224edf1a-7a0e-4dcb-fdb9-67706e564bf6"
      },
      "source": [
        "# Show lengths distribution of train data\n",
        "import seaborn as sns\n",
        "import matplotlib.pyplot as plt\n",
        "%matplotlib inline\n",
        "plt.figure(figsize=(16, 6))\n",
        "\n",
        "src_len = []\n",
        "trg_len = []\n",
        "for pair in train_pairs:\n",
        "    src_len.append(len(pair[0].split()))\n",
        "    trg_len.append(len(pair[1].split()))\n",
        "\n",
        "sns.distplot(src_len)\n",
        "sns.distplot(trg_len)"
      ],
      "execution_count": null,
      "outputs": [
        {
          "output_type": "stream",
          "text": [
            "/usr/local/lib/python3.6/dist-packages/statsmodels/tools/_testing.py:19: FutureWarning: pandas.util.testing is deprecated. Use the functions in the public API at pandas.testing instead.\n",
            "  import pandas.util.testing as tm\n"
          ],
          "name": "stderr"
        },
        {
          "output_type": "execute_result",
          "data": {
            "text/plain": [
              "<matplotlib.axes._subplots.AxesSubplot at 0x7f72563c5a90>"
            ]
          },
          "metadata": {
            "tags": []
          },
          "execution_count": 4
        },
        {
          "output_type": "display_data",
          "data": {
            "image/png": "[encoded data removed]",
            "text/plain": [
              "<Figure size 1152x432 with 1 Axes>"
            ]
          },
          "metadata": {
            "tags": [],
            "needs_background": "light"
          }
        }
      ]
    },
    {
      "cell_type": "code",
      "metadata": {
        "id": "0K4fxi_U4OGI",
        "colab_type": "code",
        "colab": {
          "base_uri": "https://localhost:8080/",
          "height": 68
        },
        "outputId": "e9d23b70-6175-44c7-a694-0551a5a26a0d"
      },
      "source": [
        "# Preprocess data\n",
        "# 1. Text cleaning\n",
        "# 2. Filter outliers\n",
        "import re\n",
        "\n",
        "# Set limits of the lengths\n",
        "max_src_len = 45\n",
        "min_src_len = 18\n",
        "max_trg_len = 13\n",
        "min_trg_len = 5\n",
        "\n",
        "def clean_sent(sent):\n",
        "    sent = sent.lower()\n",
        "    sent = re.sub(r'-.*-', ' ', sent) # Removes word inside - -\n",
        "    sent = re.sub(r'#.*#', '##', sent) # Removes word inside # #\n",
        "    # Handle numbers in sent\n",
        "    sent = re.sub(r'([a-z0-9.,<>])(#)', r'\\1 \\2', sent)\n",
        "    sent = re.sub(r'(#)([a-z0-9.,<>])', r'\\1 \\2', sent)\n",
        "    sent = re.sub(r'#{1,}', r'#', sent)\n",
        "    sent = sent.replace('#', '<NUM>')\n",
        "    # Remove special symbols\n",
        "    sent = re.sub(r'[^a-zA-Z.,/-<>#\\']', ' ', sent) \n",
        "    sent = sent.replace('/', ' ')\n",
        "    sent = sent.replace(';', ' ')\n",
        "    sent = sent.replace('<num>', ' <NUM> ')\n",
        "    sent = sent.split()\n",
        "    sent = [word for word in sent if len(word) > 1 or word in ['i', 'a']]\n",
        "    sent = ' '.join(sent)\n",
        "    return sent\n",
        "\n",
        "def clean_pair(pair):\n",
        "    src = clean_sent(pair[0])\n",
        "    trg = clean_sent(pair[1])\n",
        "    return [src, trg]\n",
        "\n",
        "def clean_pairs(pairs):\n",
        "    return [clean_pair(pair) for pair in pairs]\n",
        "\n",
        "def filter_pairs(pairs):\n",
        "    filtered = []\n",
        "    for pair in pairs:\n",
        "        src, trg = pair\n",
        "        src_len = len(src.split())\n",
        "        trg_len = len(trg.split())\n",
        "        if 'unk' not in pair[0] and 'unk' not in pair[1]: # Remove default unk\n",
        "            if min_src_len <= src_len <= max_src_len and min_trg_len <= trg_len <= max_trg_len: # Remove outliers\n",
        "                filtered.append(pair)\n",
        "    return filtered\n",
        "\n",
        "train_pairs = filter_pairs(clean_pairs(train_pairs))\n",
        "valid_pairs = filter_pairs(clean_pairs(valid_pairs))\n",
        "test_pairs = filter_pairs(clean_pairs(test_pairs))\n",
        "\n",
        "print('Number of train examples: {}'.format(len(train_pairs)))\n",
        "print('Number of valid examples: {}'.format(len(valid_pairs)))\n",
        "print('Number of test examples: {}'.format(len(test_pairs)))\n"
      ],
      "execution_count": null,
      "outputs": [
        {
          "output_type": "stream",
          "text": [
            "Number of train examples: 208647\n",
            "Number of valid examples: 6644\n",
            "Number of test examples: 909\n"
          ],
          "name": "stdout"
        }
      ]
    },
    {
      "cell_type": "code",
      "metadata": {
        "id": "q_gWi_go4OGL",
        "colab_type": "code",
        "colab": {}
      },
      "source": [
        "import random\n",
        "import torch\n",
        "import torch.nn as nn\n",
        "from torch import optim\n",
        "import torch.nn.functional as F\n",
        "\n",
        "device = torch.device(\"cuda\" if torch.cuda.is_available() else \"cpu\")"
      ],
      "execution_count": null,
      "outputs": []
    },
    {
      "cell_type": "code",
      "metadata": {
        "id": "SAZzwuEJ4OGO",
        "colab_type": "code",
        "colab": {}
      },
      "source": [
        "# Custom vocab object\n",
        "class Vocab():\n",
        "   \n",
        "    def __init__(self):\n",
        "        self.PAD = 0\n",
        "        self.SOS = 1\n",
        "        self.EOS = 2\n",
        "        self.UNK = 3\n",
        "        self.NUM = 4\n",
        "        self.word2index = {}\n",
        "        self.word2count = {}\n",
        "        self.index2word = {0: \"<PAD>\", 1: \"<SOS>\", 2: \"<EOS>\", 3: \"<UNK>\", 4: \"<NUM>\"}\n",
        "        self.n_words = 5\n",
        "\n",
        "    def add_sent(self, sentence):\n",
        "        for word in sentence.split():\n",
        "            self.add_word(word)\n",
        "\n",
        "    def add_word(self, word):\n",
        "        if word not in self.word2index:\n",
        "            self.word2index[word] = self.n_words\n",
        "            self.word2count[word] = 1\n",
        "            self.index2word[self.n_words] = word\n",
        "            self.n_words += 1\n",
        "        else:\n",
        "            self.word2count[word] += 1\n",
        "\n",
        "    def __getitem__(self, item):\n",
        "        if type(item) == str:\n",
        "            return int(self.word2index.get(item, self.UNK)) # Return the index of <UNK> if input word is not in the vocab\n",
        "        elif type(item) == int:\n",
        "            return self.index2word[item]"
      ],
      "execution_count": null,
      "outputs": []
    },
    {
      "cell_type": "code",
      "metadata": {
        "id": "cMYjHS3l4OGR",
        "colab_type": "code",
        "colab": {
          "base_uri": "https://localhost:8080/",
          "height": 51
        },
        "outputId": "00cc080d-81b6-4525-a119-000c6f2fc4dc"
      },
      "source": [
        "# Build vocab from train data\n",
        "\n",
        "def build_vocab(pairs):\n",
        "    vocab = Vocab()\n",
        "    print(\"Read {} example pairs\".format(len(pairs)))\n",
        "    for pair in pairs:\n",
        "        vocab.add_sent(pair[0])\n",
        "        vocab.add_sent(pair[1])\n",
        "    print('Number of vocab: {}'.format(vocab.n_words))\n",
        "    \n",
        "    return vocab\n",
        "\n",
        "vocab = build_vocab(train_pairs)"
      ],
      "execution_count": null,
      "outputs": [
        {
          "output_type": "stream",
          "text": [
            "Read 208647 example pairs\n",
            "Number of vocab: 64514\n"
          ],
          "name": "stdout"
        }
      ]
    },
    {
      "cell_type": "code",
      "metadata": {
        "id": "8_4YfLmIJCxn",
        "colab_type": "code",
        "colab": {}
      },
      "source": [
        "def batchify(pairs, batch_size):\n",
        "    # Convert a dataset into a list of batches\n",
        "    # Sort all example pairs in descending order: src_len\n",
        "    pairs = sorted(pairs, key=lambda p: len(p[0].split()), reverse=True)\n",
        "    pairs = [pairs[i:i+batch_size] for i in range(0, len(pairs), batch_size)]\n",
        "    return pairs\n",
        "\n",
        "def encode_sent(sent):\n",
        "    return [vocab.SOS] + [vocab[word] for word in sent.split()] + [vocab.EOS]\n",
        "\n",
        "def encode_pair(pair):\n",
        "    src = encode_sent(pair[0])\n",
        "    trg = encode_sent(pair[1])\n",
        "    return src, trg\n",
        "\n",
        "def encode_batch(batch):\n",
        "    return [encode_pair(pair) for pair in batch]\n",
        "\n",
        "def pad_sent(sent, max_len):\n",
        "    # Post-padding\n",
        "    sent += [vocab.PAD]*(max_len - len(sent))\n",
        "    return sent\n",
        "\n",
        "def pad_mask(tensor):\n",
        "    # tensor [batch_size, sent_len]\n",
        "    mask = (tensor != vocab.PAD).unsqueeze(1).unsqueeze(2) # [batch size, 1, 1, sent_len]\n",
        "    return mask\n",
        "    \n",
        "def sub_mask(tensor):\n",
        "    # tensor [batch_size, sent_len]\n",
        "    sent_len = tensor.size(1)\n",
        "    mask = torch.tril(torch.ones((sent_len, sent_len), device=device)).bool() # [trg len, trg len]\n",
        "    return mask\n",
        "\n",
        "def tensor_batch(batch):\n",
        "    # Encode batch\n",
        "    batch = encode_batch(batch)\n",
        "    \n",
        "    src = [pair[0] for pair in batch]\n",
        "    trg = [pair[1] for pair in batch]\n",
        "    src_len = [len(sent) for sent in src]\n",
        "    trg_len = [len(sent) for sent in trg]\n",
        "    \n",
        "    # Padding\n",
        "    src = [pad_sent(sent, max(src_len)) for sent in src]\n",
        "    trg = [pad_sent(sent, max(trg_len)) for sent in trg]\n",
        "    \n",
        "    # Convert to tensor\n",
        "    src =  torch.tensor(src, dtype=torch.long).to(device) # [batch_size, src_len]\n",
        "    trg =  torch.tensor(trg, dtype=torch.long).to(device) # [batch_size, trg_len]\n",
        "\n",
        "    # Create mask\n",
        "    trg_no_eos = trg[:, :-1] # trg without <EOS> [batch_size, trg len-1]\n",
        "    trg_no_sos = trg[:, 1:] # trg without <SOS> [batch_size, trg len-1]\n",
        "    trg_mask = pad_mask(trg_no_eos) & sub_mask(trg_no_eos) # [batch_size, 1, trg_len, trg_len]\n",
        "    src_mask = pad_mask(src) # [batch_size, 1, 1, src_len]\n",
        "\n",
        "    return [[src, trg], \n",
        "            [trg_no_sos, trg_no_eos], \n",
        "            [src_mask, trg_mask]]"
      ],
      "execution_count": null,
      "outputs": []
    },
    {
      "cell_type": "code",
      "metadata": {
        "id": "tASIlAPezQHB",
        "colab_type": "code",
        "colab": {
          "base_uri": "https://localhost:8080/",
          "height": 333
        },
        "outputId": "d0fdae52-ac1e-461e-d0d8-b4c7786f182d"
      },
      "source": [
        "import seaborn as sns\n",
        "\n",
        "class Word_Embedding(nn.Module):\n",
        "    def __init__(self, vocab_dim, model_dim):\n",
        "        super(Word_Embedding, self).__init__()\n",
        "        self.embedding = nn.Embedding(vocab_dim, model_dim)\n",
        "    def forward(self, tensor):\n",
        "        embedded = self.embedding(tensor) # [batch_size, src_len, model_dim]\n",
        "        model_dim = embedded.size(-1)\n",
        "        scale = torch.sqrt(torch.tensor(model_dim, dtype=torch.float, device=device))\n",
        "        embedded = embedded * scale # [batch_size, src_len, model_dim]\n",
        "        return embedded\n",
        "\n",
        "def positional_encoding_matrix(max_len, model_dim):\n",
        "    pe = torch.zeros(max_len, model_dim).to(device)\n",
        "    pos = torch.arange(0, max_len)\n",
        "    pos = pos.unsqueeze(1)\n",
        "    angle = pos * torch.exp(torch.arange(0, model_dim, 2) * -(np.log(max_len) / model_dim))\n",
        "    pe[:, 0::2] = torch.sin(angle)\n",
        "    pe[:, 1::2] = torch.cos(angle)\n",
        "    return pe\n",
        "\n",
        "plt.figure(figsize=(10, 5))\n",
        "pe = positional_encoding_matrix(50, 300)\n",
        "sns.heatmap(pe.cpu())\n",
        "\n",
        "class Static_Positional_Encoding(nn.Module):\n",
        "    def __init__(self, max_len, model_dim):\n",
        "        super(Static_Positional_Encoding, self).__init__()\n",
        "        pe = positional_encoding_matrix(max_len, model_dim)\n",
        "        pe = pe.unsqueeze(0)\n",
        "        self.pos_encode = pe\n",
        "\n",
        "    def forward(self, tensor):\n",
        "        # tensor [batch_size, sent_len]\n",
        "        sent_len = tensor.size(1)\n",
        "        tensor = self.pos_encode[:, :sent_len] # [1, sent_len, model_dim]\n",
        "        return tensor\n",
        "\n",
        "class Learn_Positional_Encoding(nn.Module):\n",
        "    def __init__(self, max_len, model_dim):\n",
        "        super(Learn_Positional_Encoding, self).__init__()\n",
        "        self.pos_encode = nn.Embedding(max_len, model_dim)\n",
        "\n",
        "    def forward(self, tensor):\n",
        "        # tensor [batch_size, sent_len]\n",
        "        tensor = self.pos_encode(tensor) # [1, sent_len, model_dim]\n",
        "        return tensor\n"
      ],
      "execution_count": null,
      "outputs": [
        {
          "output_type": "display_data",
          "data": {
            "image/png": "[encoded data removed]",
            "text/plain": [
              "<Figure size 720x360 with 2 Axes>"
            ]
          },
          "metadata": {
            "tags": [],
            "needs_background": "light"
          }
        }
      ]
    },
    {
      "cell_type": "code",
      "metadata": {
        "id": "i5sUWueE41gl",
        "colab_type": "code",
        "colab": {}
      },
      "source": [
        "def scaled_dp_attention(Q, K, V, mask):\n",
        "    # Q [batch_size, n_heads, query_len, head_dim]\n",
        "    # K [batch_size, n_heads, key_len, head_dim]\n",
        "    # V [batch_size, n_heads, value_len, head_dim]\n",
        "    head_dim = K.size(-1)\n",
        "    K_T = K.permute(0, 1, 3, 2) # [batch_size, n_heads, head_dim, key_len]\n",
        "    scale = torch.sqrt(torch.tensor(head_dim, dtype=torch.float, device=device)) # [1]\n",
        "    attention = torch.matmul(Q, K_T)/scale # [batch_size, n_heads, query_len, key_len]\n",
        "    attention = attention.masked_fill(mask==0, -1e9)\n",
        "    attention = torch.softmax(attention, dim=-1) # [batch size, n heads, query_len, key_len]\n",
        "    attention = torch.matmul(attention, V) # [batch size, n heads, query_len, head_dim]\n",
        "    attention = attention.permute(0, 2, 1, 3) # [batch size, query len, n_heads, head_dim]\n",
        "    return attention\n",
        "\n",
        "class Multi_Head_Attention(nn.Module):\n",
        "    def __init__(self, model_dim, n_heads):\n",
        "        super(Multi_Head_Attention, self).__init__()\n",
        "        assert model_dim % n_heads == 0\n",
        "        self.model_dim = model_dim\n",
        "        self.n_heads = n_heads\n",
        "        self.head_dim = model_dim // n_heads\n",
        "        self.ff_q = nn.Linear(model_dim, model_dim, bias=False)\n",
        "        self.ff_k = nn.Linear(model_dim, model_dim, bias=False)\n",
        "        self.ff_v = nn.Linear(model_dim, model_dim, bias=False)\n",
        "        self.ff_o = nn.Linear(model_dim, model_dim, bias=False)\n",
        "        \n",
        "    def forward(self, query, key, value, mask):\n",
        "        # query = [batch size, query len, model_dim]\n",
        "        # key = [batch size, key len, model_dim]\n",
        "        # value = [batch size, value len, model_dim]      \n",
        "        batch_size = query.size(0)\n",
        "        Q = self.ff_q(query).view(batch_size, -1, self.n_heads, self.head_dim).permute(0, 2, 1, 3) # [batch size, n heads, query len, head dim]\n",
        "        K = self.ff_k(key).view(batch_size, -1, self.n_heads, self.head_dim).permute(0, 2, 1, 3) # [batch size, n heads, key len, head dim]\n",
        "        V = self.ff_v(value).view(batch_size, -1, self.n_heads, self.head_dim).permute(0, 2, 1, 3) # [batch size, n heads, value len, head dim]\n",
        "        attention = scaled_dp_attention(Q, K, V, mask)\n",
        "        attention = attention.contiguous() # [batch size, query len, n heads, head dim]\n",
        "        attention = attention.view(batch_size, -1, self.model_dim) # [batch size, query len, model_dim]\n",
        "        x = self.ff_o(attention) # [batch size, query len, model_dim]\n",
        "        return x\n",
        "\n",
        "class Positionwise_FF(nn.Module):\n",
        "    def __init__(self, model_dim, ff_dim):\n",
        "        super(Positionwise_FF, self).__init__()\n",
        "        self.ff_1 = nn.Linear(model_dim, ff_dim, bias=True)\n",
        "        self.ff_2 = nn.Linear(ff_dim, model_dim, bias=True)\n",
        "        \n",
        "    def forward(self, x):\n",
        "        # x = [batch size, sent_len, model_dim]\n",
        "        x = self.ff_2(torch.relu(self.ff_1(x))) # [batch size, sent_len, model_dim]\n",
        "        return x"
      ],
      "execution_count": null,
      "outputs": []
    },
    {
      "cell_type": "code",
      "metadata": {
        "id": "cX0H6miLfEHx",
        "colab_type": "code",
        "colab": {}
      },
      "source": [
        "class Encoder(nn.Module):\n",
        "    def __init__(self, model_dim, n_layers, n_heads, ff_dim, dp):\n",
        "        super(Encoder, self).__init__()\n",
        "        self.encoder_layers = nn.ModuleList([Encoder_layer(model_dim, n_heads, ff_dim, dp) for _ in range(n_layers)])\n",
        "\n",
        "    def forward(self, src, src_mask):\n",
        "        # src [batch_size, src_len, model_dim]\n",
        "        # src_mask [batch_size, src_len]\n",
        "        for layer in self.encoder_layers:\n",
        "            src = layer(src, src_mask) # [batch_size, src_len, model_dim]\n",
        "        return src\n",
        "\n",
        "class Encoder_layer(nn.Module):\n",
        "    def __init__(self, model_dim, n_heads, ff_dim, dp):\n",
        "        super(Encoder_layer, self).__init__()\n",
        "        self.norm_1 = nn.LayerNorm(model_dim)\n",
        "        self.norm_2 = nn.LayerNorm(model_dim)\n",
        "        self.multi_head_attention = Multi_Head_Attention(model_dim, n_heads)\n",
        "        self.positionwise_ff = Positionwise_FF(model_dim, ff_dim)\n",
        "        self.dropout = nn.Dropout(dp)\n",
        "        \n",
        "    def forward(self, src, src_mask):\n",
        "        # Sublayers:\n",
        "        # Multi_Head_Attention\n",
        "        # Add & Norm\n",
        "        # Positionwise_FF\n",
        "        # Add & Norm\n",
        "        # src [batch_size, src_len, model_dim]\n",
        "        # src_mask [batch_size, src_len]\n",
        "        src = self.norm_1(src + self.dropout(self.multi_head_attention(src, src, src, src_mask))) # [batch_size, src_len, model_dim]\n",
        "        src = self.norm_2(src + self.dropout(self.positionwise_ff(src))) # [batch_size, src_len, model_dim]\n",
        "        return src\n",
        "\n",
        "class Decoder(nn.Module):\n",
        "    def __init__(self, vocab_dim, model_dim, n_layers, n_heads, ff_dim, dp):\n",
        "        super(Decoder, self).__init__()\n",
        "\n",
        "        self.decoder_layers = nn.ModuleList([Decoder_layer(model_dim, n_heads, ff_dim, dp) for _ in range(n_layers)])\n",
        "        self.generator = nn.Linear(model_dim, vocab_dim, bias=False)\n",
        "        \n",
        "    def forward(self, trg, enc_src, trg_mask, src_mask):\n",
        "        # trg = [batch size, trg len]\n",
        "        # enc_src = [batch size, src len, hid dim]\n",
        "        # trg_mask = [batch size, trg len]\n",
        "        # src_mask = [batch size, src len]     \n",
        "        batch_size = trg.size(0)\n",
        "        trg_len = trg.size(1)\n",
        "        for layer in self.decoder_layers:\n",
        "            trg = layer(trg, enc_src, trg_mask, src_mask) # [batch_size, trg_len, model_dim]\n",
        "        output = self.generator(trg) # [batch_size, trg_len, vocab_dim]\n",
        "        return output\n",
        "\n",
        "class Decoder_layer(nn.Module):\n",
        "    def __init__(self, model_dim, n_heads, ff_dim, dp):\n",
        "        super(Decoder_layer, self).__init__()\n",
        "        self.norm_1 = nn.LayerNorm(model_dim)\n",
        "        self.norm_2 = nn.LayerNorm(model_dim)\n",
        "        self.norm_3 = nn.LayerNorm(model_dim)\n",
        "        self.multi_head_attention_1 = Multi_Head_Attention(model_dim, n_heads)\n",
        "        self.multi_head_attention_2 = Multi_Head_Attention(model_dim, n_heads)\n",
        "        self.positionwise_ff = Positionwise_FF(model_dim, ff_dim)\n",
        "        self.dropout = nn.Dropout(dp)\n",
        "\n",
        "    def forward(self, trg, output, trg_mask, src_mask):\n",
        "        # Sublayers:\n",
        "        # Multi_Head_Attention\n",
        "        # Add & Norm\n",
        "        # Multi_Head_Attention\n",
        "        # Add & Norm\n",
        "        # Positionwise_FF\n",
        "        # Add & Norm\n",
        "        # trg [batch_size, trg_len, model_dim]\n",
        "        # output [batch_size, src_len, model_dim]\n",
        "        trg = self.norm_1(trg + self.dropout(self.multi_head_attention_1(trg, trg, trg, trg_mask))) # [batch_size, src_len, model_dim]\n",
        "        trg = self.norm_2(trg + self.dropout(self.multi_head_attention_2(trg, output, output, src_mask))) # [batch_size, src_len, model_dim]\n",
        "        trg = self.norm_3(trg + self.dropout(self.positionwise_ff(trg))) # [batch_size, src_len, model_dim]\n",
        "        return trg"
      ],
      "execution_count": null,
      "outputs": []
    },
    {
      "cell_type": "code",
      "metadata": {
        "id": "bmV614XY6izn",
        "colab_type": "code",
        "colab": {}
      },
      "source": [
        "class Model(nn.Module):\n",
        "    def __init__(self, vocab_dim, max_len, model_dim, n_layers, n_heads, ff_dim, dp):\n",
        "        super(Model, self).__init__()\n",
        "        self.embedding = Word_Embedding(vocab_dim, model_dim).to(device)\n",
        "        self.static_pos_encoding = Static_Positional_Encoding(max_len, model_dim).to(device)\n",
        "        self.learn_pos_encoding = Learn_Positional_Encoding(max_len, model_dim).to(device)\n",
        "        self.encoder = Encoder(model_dim, n_layers, n_heads, ff_dim, dp).to(device)\n",
        "        self.decoder = Decoder(vocab_dim, model_dim, n_layers, n_heads, ff_dim, dp).to(device)\n",
        "        self.pos_encoding = self.static_pos_encoding\n",
        "        self.dropout = nn.Dropout(dp)\n",
        "\n",
        "    def forward(self, src, trg, src_mask, trg_mask):\n",
        "        # src [batch size, src len]\n",
        "        # trg [batch size, trg len] \n",
        "        # src_mask [batch size, 1, 1, src_len]\n",
        "        # trg_mask [batch size, 1, trg_len, trg_len]\n",
        "        src = self.embedding(src)\n",
        "        trg = self.embedding(trg)\n",
        "\n",
        "        src = self.dropout(src + self.pos_encoding(src))\n",
        "        trg = self.dropout(trg + self.pos_encoding(trg))\n",
        "\n",
        "        enc_src = self.encoder(src, \n",
        "                               src_mask) # [batch_size, src_len, model_dim]\n",
        "        \n",
        "        output = self.decoder(trg, \n",
        "                              enc_src, \n",
        "                              trg_mask, \n",
        "                              src_mask) # [batch_size, trg_len, vocab_dim]\n",
        "        return output"
      ],
      "execution_count": null,
      "outputs": []
    },
    {
      "cell_type": "code",
      "metadata": {
        "id": "HnM2C7UPKv5c",
        "colab_type": "code",
        "colab": {}
      },
      "source": [
        "# Optimiser\n",
        "# https://stackoverflow.com/questions/48324152/pytorch-how-to-change-the-learning-rate-of-an-optimizer-at-any-given-moment-no\n",
        "class Transformer_Optimizer():\n",
        "    def __init__(self, model_dim, warmup_steps, optimizer):\n",
        "        self.model_dim = model_dim\n",
        "        self.warmup_steps = warmup_steps\n",
        "        self.optimizer = optimizer\n",
        "        self.n_step = 0\n",
        "\n",
        "    def step(self):\n",
        "        self.n_step += 1\n",
        "        lrate = (self.model_dim**(-0.5)) * np.min([self.n_step**(-0.5), self.n_step*(self.warmup_steps**(-1.5))])\n",
        "        for group in self.optimizer.param_groups:\n",
        "            group['lr'] = lrate\n",
        "        self.optimizer.step()\n",
        "\n",
        "# Labal smoothing\n",
        "class Label_Smoothing(nn.Module):\n",
        "    def __init__(self):\n",
        "        super(Label_Smoothing, self).__init__()\n",
        "    def forward(self, output, trg, alpha=0.1):\n",
        "        logprobs = F.log_softmax(output, dim=-1)\n",
        "        nll_loss = -logprobs.gather(dim=-1, index=trg.unsqueeze(1)).squeeze(1)\n",
        "        smooth_loss = -logprobs.mean(dim=-1)\n",
        "        loss = (1-alpha) * nll_loss + alpha * smooth_loss\n",
        "        return loss.mean()"
      ],
      "execution_count": null,
      "outputs": []
    },
    {
      "cell_type": "code",
      "metadata": {
        "id": "Mh7H12xy7Q4P",
        "colab_type": "code",
        "colab": {}
      },
      "source": [
        "def train(batches, model, optimizer, label_smoothing):\n",
        "\n",
        "    epoch_loss = []\n",
        "\n",
        "    for batch in batches:\n",
        "\n",
        "        optimizer.optimizer.zero_grad()\n",
        "\n",
        "        batch = tensor_batch(batch)\n",
        "        src = batch[0][0]\n",
        "        trg = batch[0][1]\n",
        "        trg_no_sos = batch[1][0]\n",
        "        trg_no_eos = batch[1][1]\n",
        "        src_mask = batch[2][0]\n",
        "        trg_mask = batch[2][1]\n",
        "\n",
        "        output = model(src, trg_no_eos, src_mask, trg_mask) # [batch_size, trg_len-1, vocab_dim]\n",
        "\n",
        "        output_dim = output.size(-1)\n",
        "        output = output.contiguous().view(-1, output_dim) # [batch_size*trg_len-1, vocab_dim]\n",
        "        trg_no_sos = trg_no_sos.contiguous().view(-1) # [batch_size*trg_len-1]\n",
        "\n",
        "        loss = label_smoothing(output, trg_no_sos)\n",
        "\n",
        "        loss.backward()\n",
        "        optimizer.step()\n",
        "\n",
        "        loss = loss.item()\n",
        "        if len(epoch_loss) % 200 == 0:\n",
        "            print(\"batch: {}\\t train loss: {:.4f}\".format(len(epoch_loss), loss))\n",
        "        epoch_loss.append(loss)\n",
        "       \n",
        "    return epoch_loss\n",
        "\n",
        "def eval(batches, model, criterion):\n",
        "    \n",
        "    epoch_loss = []\n",
        "    with torch.no_grad():\n",
        "\n",
        "        for batch in batches:\n",
        "\n",
        "            batch = tensor_batch(batch)\n",
        "            src = batch[0][0]\n",
        "            trg = batch[0][1]\n",
        "            trg_no_sos = batch[1][0]\n",
        "            trg_no_eos = batch[1][1]\n",
        "            src_mask = batch[2][0]\n",
        "            trg_mask = batch[2][1]\n",
        "\n",
        "            output = model(src, trg_no_eos, src_mask, trg_mask) # [batch_size, trg_len-1, vocab_dim]\n",
        "\n",
        "            output_dim = output.size(-1)\n",
        "            output = output.contiguous().view(-1, output_dim) # [batch_size*trg_len-1, vocab_dim]\n",
        "            trg_no_sos = trg_no_sos.contiguous().view(-1) # [batch_size*trg_len-1]\n",
        "\n",
        "            loss = criterion(output, trg_no_sos)\n",
        "\n",
        "            loss = loss.item()\n",
        "            epoch_loss.append(loss)\n",
        "\n",
        "    return epoch_loss"
      ],
      "execution_count": null,
      "outputs": []
    },
    {
      "cell_type": "code",
      "metadata": {
        "id": "LIJGNsOe8JPC",
        "colab_type": "code",
        "colab": {
          "base_uri": "https://localhost:8080/",
          "height": 85
        },
        "outputId": "c49a8a27-48dd-4c8a-cf38-a09442cc7de2"
      },
      "source": [
        "model_dim = 300\n",
        "max_len = 50\n",
        "vocab_dim = vocab.n_words\n",
        "n_epochs = 15\n",
        "n_layers = 3\n",
        "n_heads = 10\n",
        "ff_dim = 600\n",
        "dp = 0.1\n",
        "batch_size = 128\n",
        "warmup_steps = 4000\n",
        "\n",
        "\n",
        "train_batches = batchify(train_pairs, batch_size)\n",
        "valid_batches = batchify(valid_pairs, batch_size)\n",
        "\n",
        "model = Model(vocab_dim, max_len, model_dim, n_layers, n_heads, ff_dim, dp)\n",
        "adam_optimizer = torch.optim.Adam(model.parameters(), lr=0, betas=(0.9, 0.98), eps=1e-9)\n",
        "optimizer = Transformer_Optimizer(model_dim, warmup_steps, optimizer=adam_optimizer)\n",
        "criterion = nn.CrossEntropyLoss(ignore_index=vocab.PAD)\n",
        "label_smoothing = Label_Smoothing()\n",
        "\n",
        "def count_parameters(model):\n",
        "    return sum(p.numel() for p in model.parameters() if p.requires_grad)\n",
        "\n",
        "print(f'Embedding has {count_parameters(model.embedding):,} trainable parameters')\n",
        "print(f'Positional Encoding has {count_parameters(model.pos_encoding):,} trainable parameters')\n",
        "print(f'Encoder has {count_parameters(model.encoder):,} trainable parameters')\n",
        "print(f'Decoder has {count_parameters(model.decoder):,} trainable parameters')"
      ],
      "execution_count": null,
      "outputs": [
        {
          "output_type": "stream",
          "text": [
            "Embedding has 19,354,200 trainable parameters\n",
            "Positional Encoding has 0 trainable parameters\n",
            "Encoder has 2,166,300 trainable parameters\n",
            "Decoder has 22,602,300 trainable parameters\n"
          ],
          "name": "stdout"
        }
      ]
    },
    {
      "cell_type": "code",
      "metadata": {
        "id": "pF89Em0VptWF",
        "colab_type": "code",
        "colab": {
          "base_uri": "https://localhost:8080/",
          "height": 953
        },
        "outputId": "982b7792-bfab-4bab-b831-16214c3ca254"
      },
      "source": [
        "best_valid_loss = float('inf')\n",
        "train_losses = []\n",
        "valid_losses = []\n",
        "\n",
        "for epoch in range(1, n_epochs+1):\n",
        "    \n",
        "    train_loss = train(iter(train_batches), model, optimizer, criterion)\n",
        "    valid_loss = eval(iter(valid_batches), model, criterion)\n",
        "    print('epoch: {}\\t epoch train loss: {:.4f}\\t epoch valid loss: {:.4f}'.format(epoch, np.mean(train_loss), np.mean(valid_loss)))\n",
        "\n",
        "    train_losses += train_loss\n",
        "    valid_losses += valid_loss\n",
        "\n",
        "    if np.mean(valid_loss) < best_valid_loss:\n",
        "        best_valid_loss = np.mean(valid_loss)\n",
        "        torch.save(model.state_dict(), 'transformer.w')"
      ],
      "execution_count": null,
      "outputs": [
        {
          "output_type": "stream",
          "text": [
            "batch: 0\t train loss: 11.2191\n",
            "batch: 200\t train loss: 8.8169\n",
            "batch: 400\t train loss: 7.3881\n",
            "batch: 600\t train loss: 7.1917\n",
            "batch: 800\t train loss: 7.0321\n",
            "batch: 1000\t train loss: 6.8176\n",
            "batch: 1200\t train loss: 6.5757\n",
            "batch: 1400\t train loss: 6.1884\n",
            "batch: 1600\t train loss: 5.9943\n",
            "epoch: 1\t epoch train loss: 7.3194\t epoch valid loss: 6.2566\n",
            "batch: 0\t train loss: 6.5997\n",
            "batch: 200\t train loss: 6.2853\n",
            "batch: 400\t train loss: 5.9132\n",
            "batch: 600\t train loss: 5.9249\n",
            "batch: 800\t train loss: 5.7904\n",
            "batch: 1000\t train loss: 5.6215\n",
            "batch: 1200\t train loss: 5.4731\n",
            "batch: 1400\t train loss: 5.1580\n",
            "batch: 1600\t train loss: 5.1526\n",
            "epoch: 2\t epoch train loss: 5.7013\t epoch valid loss: 5.5003\n",
            "batch: 0\t train loss: 5.8783\n",
            "batch: 200\t train loss: 5.6615\n",
            "batch: 400\t train loss: 5.2271\n",
            "batch: 600\t train loss: 5.3315\n",
            "batch: 800\t train loss: 5.3001\n",
            "batch: 1000\t train loss: 5.0884\n",
            "batch: 1200\t train loss: 4.9620\n",
            "batch: 1400\t train loss: 4.7023\n",
            "batch: 1600\t train loss: 4.7377\n",
            "epoch: 3\t epoch train loss: 5.1437\t epoch valid loss: 5.1971\n",
            "batch: 0\t train loss: 5.4874\n",
            "batch: 200\t train loss: 5.2904\n",
            "batch: 400\t train loss: 4.8160\n",
            "batch: 600\t train loss: 5.0105\n"
          ],
          "name": "stdout"
        },
        {
          "output_type": "error",
          "ename": "KeyboardInterrupt",
          "evalue": "ignored",
          "traceback": [
            "\u001b[0;31m---------------------------------------------------------------------------\u001b[0m",
            "\u001b[0;31mKeyboardInterrupt\u001b[0m                         Traceback (most recent call last)",
            "\u001b[0;32m<ipython-input-25-655eaefbf17b>\u001b[0m in \u001b[0;36m<module>\u001b[0;34m()\u001b[0m\n\u001b[1;32m      5\u001b[0m \u001b[0;32mfor\u001b[0m \u001b[0mepoch\u001b[0m \u001b[0;32min\u001b[0m \u001b[0mrange\u001b[0m\u001b[0;34m(\u001b[0m\u001b[0;36m1\u001b[0m\u001b[0;34m,\u001b[0m \u001b[0mn_epochs\u001b[0m\u001b[0;34m+\u001b[0m\u001b[0;36m1\u001b[0m\u001b[0;34m)\u001b[0m\u001b[0;34m:\u001b[0m\u001b[0;34m\u001b[0m\u001b[0;34m\u001b[0m\u001b[0m\n\u001b[1;32m      6\u001b[0m \u001b[0;34m\u001b[0m\u001b[0m\n\u001b[0;32m----> 7\u001b[0;31m     \u001b[0mtrain_loss\u001b[0m \u001b[0;34m=\u001b[0m \u001b[0mtrain\u001b[0m\u001b[0;34m(\u001b[0m\u001b[0miter\u001b[0m\u001b[0;34m(\u001b[0m\u001b[0mtrain_batches\u001b[0m\u001b[0;34m)\u001b[0m\u001b[0;34m,\u001b[0m \u001b[0mmodel\u001b[0m\u001b[0;34m,\u001b[0m \u001b[0moptimizer\u001b[0m\u001b[0;34m,\u001b[0m \u001b[0mcriterion\u001b[0m\u001b[0;34m)\u001b[0m\u001b[0;34m\u001b[0m\u001b[0;34m\u001b[0m\u001b[0m\n\u001b[0m\u001b[1;32m      8\u001b[0m     \u001b[0mvalid_loss\u001b[0m \u001b[0;34m=\u001b[0m \u001b[0meval\u001b[0m\u001b[0;34m(\u001b[0m\u001b[0miter\u001b[0m\u001b[0;34m(\u001b[0m\u001b[0mvalid_batches\u001b[0m\u001b[0;34m)\u001b[0m\u001b[0;34m,\u001b[0m \u001b[0mmodel\u001b[0m\u001b[0;34m,\u001b[0m \u001b[0mcriterion\u001b[0m\u001b[0;34m)\u001b[0m\u001b[0;34m\u001b[0m\u001b[0;34m\u001b[0m\u001b[0m\n\u001b[1;32m      9\u001b[0m     \u001b[0mprint\u001b[0m\u001b[0;34m(\u001b[0m\u001b[0;34m'epoch: {}\\t epoch train loss: {:.4f}\\t epoch valid loss: {:.4f}'\u001b[0m\u001b[0;34m.\u001b[0m\u001b[0mformat\u001b[0m\u001b[0;34m(\u001b[0m\u001b[0mepoch\u001b[0m\u001b[0;34m,\u001b[0m \u001b[0mnp\u001b[0m\u001b[0;34m.\u001b[0m\u001b[0mmean\u001b[0m\u001b[0;34m(\u001b[0m\u001b[0mtrain_loss\u001b[0m\u001b[0;34m)\u001b[0m\u001b[0;34m,\u001b[0m \u001b[0mnp\u001b[0m\u001b[0;34m.\u001b[0m\u001b[0mmean\u001b[0m\u001b[0;34m(\u001b[0m\u001b[0mvalid_loss\u001b[0m\u001b[0;34m)\u001b[0m\u001b[0;34m)\u001b[0m\u001b[0;34m)\u001b[0m\u001b[0;34m\u001b[0m\u001b[0;34m\u001b[0m\u001b[0m\n",
            "\u001b[0;32m<ipython-input-17-434eceae8fa1>\u001b[0m in \u001b[0;36mtrain\u001b[0;34m(batches, model, optimizer, label_smoothing)\u001b[0m\n\u001b[1;32m     23\u001b[0m         \u001b[0mloss\u001b[0m \u001b[0;34m=\u001b[0m \u001b[0mlabel_smoothing\u001b[0m\u001b[0;34m(\u001b[0m\u001b[0moutput\u001b[0m\u001b[0;34m,\u001b[0m \u001b[0mtrg_no_sos\u001b[0m\u001b[0;34m)\u001b[0m\u001b[0;34m\u001b[0m\u001b[0;34m\u001b[0m\u001b[0m\n\u001b[1;32m     24\u001b[0m \u001b[0;34m\u001b[0m\u001b[0m\n\u001b[0;32m---> 25\u001b[0;31m         \u001b[0mloss\u001b[0m\u001b[0;34m.\u001b[0m\u001b[0mbackward\u001b[0m\u001b[0;34m(\u001b[0m\u001b[0;34m)\u001b[0m\u001b[0;34m\u001b[0m\u001b[0;34m\u001b[0m\u001b[0m\n\u001b[0m\u001b[1;32m     26\u001b[0m         \u001b[0moptimizer\u001b[0m\u001b[0;34m.\u001b[0m\u001b[0mstep\u001b[0m\u001b[0;34m(\u001b[0m\u001b[0;34m)\u001b[0m\u001b[0;34m\u001b[0m\u001b[0;34m\u001b[0m\u001b[0m\n\u001b[1;32m     27\u001b[0m \u001b[0;34m\u001b[0m\u001b[0m\n",
            "\u001b[0;32m/usr/local/lib/python3.6/dist-packages/torch/tensor.py\u001b[0m in \u001b[0;36mbackward\u001b[0;34m(self, gradient, retain_graph, create_graph)\u001b[0m\n\u001b[1;32m    183\u001b[0m                 \u001b[0mproducts\u001b[0m\u001b[0;34m.\u001b[0m \u001b[0mDefaults\u001b[0m \u001b[0mto\u001b[0m\u001b[0;31m \u001b[0m\u001b[0;31m`\u001b[0m\u001b[0;31m`\u001b[0m\u001b[0;32mFalse\u001b[0m\u001b[0;31m`\u001b[0m\u001b[0;31m`\u001b[0m\u001b[0;34m.\u001b[0m\u001b[0;34m\u001b[0m\u001b[0;34m\u001b[0m\u001b[0m\n\u001b[1;32m    184\u001b[0m         \"\"\"\n\u001b[0;32m--> 185\u001b[0;31m         \u001b[0mtorch\u001b[0m\u001b[0;34m.\u001b[0m\u001b[0mautograd\u001b[0m\u001b[0;34m.\u001b[0m\u001b[0mbackward\u001b[0m\u001b[0;34m(\u001b[0m\u001b[0mself\u001b[0m\u001b[0;34m,\u001b[0m \u001b[0mgradient\u001b[0m\u001b[0;34m,\u001b[0m \u001b[0mretain_graph\u001b[0m\u001b[0;34m,\u001b[0m \u001b[0mcreate_graph\u001b[0m\u001b[0;34m)\u001b[0m\u001b[0;34m\u001b[0m\u001b[0;34m\u001b[0m\u001b[0m\n\u001b[0m\u001b[1;32m    186\u001b[0m \u001b[0;34m\u001b[0m\u001b[0m\n\u001b[1;32m    187\u001b[0m     \u001b[0;32mdef\u001b[0m \u001b[0mregister_hook\u001b[0m\u001b[0;34m(\u001b[0m\u001b[0mself\u001b[0m\u001b[0;34m,\u001b[0m \u001b[0mhook\u001b[0m\u001b[0;34m)\u001b[0m\u001b[0;34m:\u001b[0m\u001b[0;34m\u001b[0m\u001b[0;34m\u001b[0m\u001b[0m\n",
            "\u001b[0;32m/usr/local/lib/python3.6/dist-packages/torch/autograd/__init__.py\u001b[0m in \u001b[0;36mbackward\u001b[0;34m(tensors, grad_tensors, retain_graph, create_graph, grad_variables)\u001b[0m\n\u001b[1;32m    125\u001b[0m     Variable._execution_engine.run_backward(\n\u001b[1;32m    126\u001b[0m         \u001b[0mtensors\u001b[0m\u001b[0;34m,\u001b[0m \u001b[0mgrad_tensors\u001b[0m\u001b[0;34m,\u001b[0m \u001b[0mretain_graph\u001b[0m\u001b[0;34m,\u001b[0m \u001b[0mcreate_graph\u001b[0m\u001b[0;34m,\u001b[0m\u001b[0;34m\u001b[0m\u001b[0;34m\u001b[0m\u001b[0m\n\u001b[0;32m--> 127\u001b[0;31m         allow_unreachable=True)  # allow_unreachable flag\n\u001b[0m\u001b[1;32m    128\u001b[0m \u001b[0;34m\u001b[0m\u001b[0m\n\u001b[1;32m    129\u001b[0m \u001b[0;34m\u001b[0m\u001b[0m\n",
            "\u001b[0;31mKeyboardInterrupt\u001b[0m: "
          ]
        }
      ]
    },
    {
      "cell_type": "code",
      "metadata": {
        "id": "yQTT-4G-8lXC",
        "colab_type": "code",
        "colab": {}
      },
      "source": [
        "def inference(src, model):\n",
        "\n",
        "   \n",
        "    with torch.no_grad():\n",
        "        \n",
        "        src = encode_sent(src)\n",
        "        src = torch.tensor(src, dtype=torch.long, device=device).unsqueeze(0) # [1, src_len]\n",
        "        src_len = src.size(1) \n",
        "        src_mask = pad_mask(src) # [batch size, 1, 1, src_len]\n",
        "        src = model.embedding(src)\n",
        "        ## Encoder\n",
        "        enc_src = model.encoder(src + model.pos_encoding(src), \n",
        "                                src_mask) # [1, src_len, model_dim]\n",
        "\n",
        "        ## Decoder\n",
        "        pred_trgs = [vocab.SOS]\n",
        "\n",
        "        for t in range(src_len):\n",
        "\n",
        "            trg = torch.tensor(pred_trgs, dtype=torch.long, device=device).unsqueeze(0) # [1, t+1]\n",
        "            trg_mask = pad_mask(trg) & sub_mask(trg) # [batch size, 1, t+1, t+1]  \n",
        "            trg = model.embedding(trg)\n",
        "            output = model.decoder(trg + model.pos_encoding(trg), \n",
        "                                   enc_src, \n",
        "                                   trg_mask, \n",
        "                                   src_mask)\n",
        "        \n",
        "            pred_trg = output.argmax(2)[:, -1]\n",
        "        \n",
        "            pred_trgs.append(pred_trg.item())\n",
        "\n",
        "            if pred_trgs[-1] == vocab.EOS:\n",
        "                break\n",
        "    \n",
        "        pred_trgs = [vocab[idx] for idx in pred_trgs][1:]\n",
        "\n",
        "        pred_trgs = ' '.join(pred_trgs)\n",
        "    \n",
        "        return pred_trgs"
      ],
      "execution_count": null,
      "outputs": []
    },
    {
      "cell_type": "code",
      "metadata": {
        "id": "KLxI-i6OqKE7",
        "colab_type": "code",
        "colab": {}
      },
      "source": [
        "def inference_randomly(pairs, model, n=100):\n",
        "    for i in range(n):\n",
        "        pair = random.choice(pairs)\n",
        "        print('>', pair[0])\n",
        "        print('=', pair[1])\n",
        "        output_sent = inference(pair[0], model)\n",
        "        print('>', output_sent)\n",
        "        print('')\n",
        "\n",
        "model.load_state_dict(torch.load('transformer.w'))\n",
        "inference_randomly(test_pairs, model, n=20)"
      ],
      "execution_count": null,
      "outputs": []
    },
    {
      "cell_type": "code",
      "metadata": {
        "id": "a4VArsjR9jdr",
        "colab_type": "code",
        "colab": {}
      },
      "source": [
        "def output_csv(pairs, model):\n",
        "    srcs = []\n",
        "    reference = []\n",
        "    candidate = []\n",
        "    for pair in pairs:\n",
        "        src = pair[0]\n",
        "        trg = pair[1]\n",
        "        pred_trg = inference(src, model)\n",
        "        pred_trg = ' '.join(pred_trg.split()[:-1]) # Trim <EOS> from the sentence\n",
        "        srcs.append(src)\n",
        "        reference.append(trg)\n",
        "        candidate.append(pred_trg)\n",
        "    df = pd.DataFrame({'src': srcs,\n",
        "                       'reference': reference,\n",
        "                       'candidate': candidate})\n",
        "    df.to_csv(path_or_buf='transformer.csv', \n",
        "              index=False)\n",
        "    \n",
        "model.load_state_dict(torch.load('transformer.w'))\n",
        "output_csv(test_pairs, model)\n"
      ],
      "execution_count": null,
      "outputs": []
    }
  ]
}